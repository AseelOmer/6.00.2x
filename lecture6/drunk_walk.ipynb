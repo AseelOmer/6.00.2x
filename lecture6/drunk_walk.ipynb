{
 "cells": [
  {
   "cell_type": "code",
   "execution_count": 3,
   "id": "c1c40b04",
   "metadata": {},
   "outputs": [
    {
     "name": "stdout",
     "output_type": "stream",
     "text": [
      "Plot saved as: UsualDrunk_walk.png\n",
      "Plot saved as: ColdDrunk_walk.png\n"
     ]
    }
   ],
   "source": [
    "import matplotlib.pyplot as plt\n",
    "import random\n",
    "\n",
    "class Field:\n",
    "    def __init__(self):\n",
    "        self.drunk_location = {}\n",
    "\n",
    "    def add_drunk(self, drunk, loc):\n",
    "        self.drunk_location[drunk] = loc\n",
    "\n",
    "    def move_drunk(self, drunk):\n",
    "        x_dist, y_dist = drunk.take_step()\n",
    "        current_location = self.drunk_location[drunk]\n",
    "        new_location = (current_location[0] + x_dist, current_location[1] + y_dist)\n",
    "        self.drunk_location[drunk] = new_location\n",
    "\n",
    "    def get_loc(self, drunk):\n",
    "        return self.drunk_location[drunk]\n",
    "\n",
    "class Drunk:\n",
    "    def __init__(self, name):\n",
    "        self.name = name\n",
    "\n",
    "    def take_step(self):\n",
    "        raise NotImplementedError(\"This method should be defined by subclasses\")\n",
    "\n",
    "class UsualDrunk(Drunk):\n",
    "    def take_step(self):\n",
    "        step_choices = [(0,1), (0,-1), (1,0), (-1,0)]\n",
    "        return random.choice(step_choices)\n",
    "\n",
    "class ColdDrunk(Drunk):\n",
    "    def take_step(self):\n",
    "        step_choices = [(0.0, 0.9), (0.0, -1.03), (1.0, 0.0), (-1.0, 0.0)]\n",
    "        return random.choice(step_choices)\n",
    "\n",
    "def walk_and_plot(drunk_class, steps):\n",
    "    drunk = drunk_class(\"Bob\")\n",
    "    field = Field()\n",
    "    start = (0, 0)\n",
    "    field.add_drunk(drunk, start)\n",
    "    locations = [start]\n",
    "\n",
    "    for _ in range(steps):\n",
    "        field.move_drunk(drunk)\n",
    "        locations.append(field.get_loc(drunk))\n",
    "\n",
    "    # Plotting\n",
    "    xs, ys = zip(*locations)\n",
    "    plt.plot(xs, ys, label=drunk_class.__name__)\n",
    "    plt.scatter(xs[0], ys[0], color='green', label='Start')\n",
    "    plt.scatter(xs[-1], ys[-1], color='red', label='End')\n",
    "    plt.title(f\"{drunk_class.__name__} Walk ({steps} steps)\")\n",
    "    plt.xlabel('X position')\n",
    "    plt.ylabel('Y position')\n",
    "    plt.legend()\n",
    "    plt.axis('equal')\n",
    "    plt.grid(True)\n",
    "\n",
    "    # Save the plot as an image file\n",
    "    filename = f\"{drunk_class.__name__}_walk.png\"\n",
    "    plt.savefig(filename)\n",
    "    plt.close()\n",
    "    print(f\"Plot saved as: {filename}\")\n",
    "\n",
    "# Example usage\n",
    "walk_and_plot(UsualDrunk, 100)\n",
    "walk_and_plot(ColdDrunk, 100)\n"
   ]
  }
 ],
 "metadata": {
  "kernelspec": {
   "display_name": "Python 3",
   "language": "python",
   "name": "python3"
  },
  "language_info": {
   "codemirror_mode": {
    "name": "ipython",
    "version": 3
   },
   "file_extension": ".py",
   "mimetype": "text/x-python",
   "name": "python",
   "nbconvert_exporter": "python",
   "pygments_lexer": "ipython3",
   "version": "3.12.1"
  }
 },
 "nbformat": 4,
 "nbformat_minor": 5
}
